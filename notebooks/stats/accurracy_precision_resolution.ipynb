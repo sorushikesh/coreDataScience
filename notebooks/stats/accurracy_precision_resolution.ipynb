{
 "cells": [
  {
   "cell_type": "markdown",
   "id": "03368b9e-0f63-4759-b255-b2fc2c58857e",
   "metadata": {},
   "source": [
    "## Accuracy vs Precision vs Resolution\n",
    "\n",
    "- Accuracy focuses on how close a measurement is to the true value.\n",
    "\n",
    "- Precision is about the consistency of repeated measurements.\n",
    "\n",
    "- Resolution determines the smallest difference that can be measured and can impact both accuracy and precision."
   ]
  },
  {
   "cell_type": "markdown",
   "id": "d6c4dc0f-085d-4ec5-b66c-33d9f15e01a5",
   "metadata": {},
   "source": [
    "## Accuracy\n",
    "\n",
    "- Definition: The degree to which a measured value is close to the true or actual value.\n",
    "\n",
    "- Example: If you're trying to measure the length of a 10 cm stick and your measurement reads 10.1 cm, your measurement is accurate because it’s very close to the true value (10 cm).\n",
    "\n",
    "- Context: Accuracy is about correctness and how well your measurements reflect the true values."
   ]
  },
  {
   "cell_type": "markdown",
   "id": "0656fc39-7250-4e31-8f75-9c14a96ad8ab",
   "metadata": {},
   "source": [
    "## Precision:\n",
    "\n",
    "- Definition: The degree to which repeated measurements or observations under unchanged conditions show the same results.\n",
    "\n",
    "- Example: If you measure the length of the stick multiple times and keep getting 10.1 cm each time, your measurements are precise because they are consistent, even though they might not be exactly correct (10 cm).\n",
    "\n",
    "- Context: Precision relates to the consistency of measurements, not necessarily their correctness."
   ]
  },
  {
   "cell_type": "markdown",
   "id": "a01918f7-c792-4d38-9250-f324de39bf0e",
   "metadata": {},
   "source": [
    "## Resolution:\n",
    "\n",
    "- Definition: The smallest possible difference that can be distinguished by a measurement system or instrument.\n",
    "\n",
    "- Example: If your measuring tool can only measure up to 0.1 cm, then the resolution is 0.1 cm. Even if the true value is 10.04 cm, your tool won’t be able to measure it precisely beyond 10.0 cm or 10.1 cm.\n",
    "\n",
    "- Context: Resolution limits the smallest unit you can measure and affects both accuracy and precision."
   ]
  },
  {
   "cell_type": "code",
   "execution_count": null,
   "id": "5372422c-df80-4d99-a32c-e27eb548bde6",
   "metadata": {},
   "outputs": [],
   "source": []
  }
 ],
 "metadata": {
  "kernelspec": {
   "display_name": "Python 3 (ipykernel)",
   "language": "python",
   "name": "python3"
  },
  "language_info": {
   "codemirror_mode": {
    "name": "ipython",
    "version": 3
   },
   "file_extension": ".py",
   "mimetype": "text/x-python",
   "name": "python",
   "nbconvert_exporter": "python",
   "pygments_lexer": "ipython3",
   "version": "3.12.7"
  }
 },
 "nbformat": 4,
 "nbformat_minor": 5
}
