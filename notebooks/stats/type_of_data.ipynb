{
 "cells": [
  {
   "cell_type": "markdown",
   "id": "561ef5f6-b70e-41c1-9166-184397a28e14",
   "metadata": {},
   "source": [
    "# Types of Data in Statistics\n",
    "\n",
    "## 1. Qualitative (Categorical) Data\n",
    "Data that represents categories or labels.\n",
    "\n",
    "- **Nominal**: No natural order (e.g., Gender, Color).\n",
    "- **Ordinal**: Has an order, but no fixed interval (e.g., Rating: Poor, Average, Good).\n",
    "\n",
    "## 2. Quantitative (Numerical) Data\n",
    "Data that represents measurable quantities.\n",
    "\n",
    "- **Discrete**: Countable values (e.g., Number of children, Cars owned).\n",
    "- **Continuous**: Any value within a range (e.g., Height, Weight, Temperature).\n",
    "\n",
    "---\n",
    "\n",
    "## Summary Table\n",
    "\n",
    "| Type         | Subtype    | Example                 |\n",
    "|--------------|------------|-------------------------|\n",
    "| Categorical  | Nominal    | Gender: Male, Female    |\n",
    "| Categorical  | Ordinal    | Rating: Good, Bad       |\n",
    "| Numerical    | Discrete   | Number of pets: 1, 2, 3 |\n",
    "| Numerical    | Continuous | Weight: 65.5 kg         |\n"
   ]
  },
  {
   "cell_type": "code",
   "execution_count": 5,
   "id": "3ccb128f-7b38-4109-b0d6-622f2d54d1db",
   "metadata": {},
   "outputs": [
    {
     "data": {
      "text/html": [
       "<div>\n",
       "<style scoped>\n",
       "    .dataframe tbody tr th:only-of-type {\n",
       "        vertical-align: middle;\n",
       "    }\n",
       "\n",
       "    .dataframe tbody tr th {\n",
       "        vertical-align: top;\n",
       "    }\n",
       "\n",
       "    .dataframe thead th {\n",
       "        text-align: right;\n",
       "    }\n",
       "</style>\n",
       "<table border=\"1\" class=\"dataframe\">\n",
       "  <thead>\n",
       "    <tr style=\"text-align: right;\">\n",
       "      <th></th>\n",
       "      <th>Name</th>\n",
       "      <th>Gender</th>\n",
       "      <th>Education Level</th>\n",
       "      <th>Age</th>\n",
       "      <th>Weight</th>\n",
       "    </tr>\n",
       "  </thead>\n",
       "  <tbody>\n",
       "    <tr>\n",
       "      <th>0</th>\n",
       "      <td>Priya</td>\n",
       "      <td>Female</td>\n",
       "      <td>Graduate</td>\n",
       "      <td>23</td>\n",
       "      <td>55.5</td>\n",
       "    </tr>\n",
       "    <tr>\n",
       "      <th>1</th>\n",
       "      <td>Rushikesh</td>\n",
       "      <td>Male</td>\n",
       "      <td>Post-Graduate</td>\n",
       "      <td>27</td>\n",
       "      <td>72.3</td>\n",
       "    </tr>\n",
       "    <tr>\n",
       "      <th>2</th>\n",
       "      <td>Mahesh</td>\n",
       "      <td>Male</td>\n",
       "      <td>Graduate</td>\n",
       "      <td>31</td>\n",
       "      <td>68.0</td>\n",
       "    </tr>\n",
       "    <tr>\n",
       "      <th>3</th>\n",
       "      <td>Pooja</td>\n",
       "      <td>Female</td>\n",
       "      <td>PhD</td>\n",
       "      <td>30</td>\n",
       "      <td>59.2</td>\n",
       "    </tr>\n",
       "  </tbody>\n",
       "</table>\n",
       "</div>"
      ],
      "text/plain": [
       "        Name  Gender Education Level  Age  Weight\n",
       "0      Priya  Female        Graduate   23    55.5\n",
       "1  Rushikesh    Male   Post-Graduate   27    72.3\n",
       "2     Mahesh    Male        Graduate   31    68.0\n",
       "3      Pooja  Female             PhD   30    59.2"
      ]
     },
     "execution_count": 5,
     "metadata": {},
     "output_type": "execute_result"
    }
   ],
   "source": [
    "import pandas as pd\n",
    "\n",
    "data = {\n",
    "    \"Name\": [\"Samrudhi\", \"Rushikesh\", \"Mahesh\", \"Pooja\"],\n",
    "    \"Gender\": [\"Female\", \"Male\", \"Male\", \"Female\"],                       # Nominal\n",
    "    \"Education Level\": [\"Graduate\", \"Post-Graduate\", \"Graduate\", \"PhD\"],  # Ordinal\n",
    "    \"Age\": [23, 27, 31, 30],                                              # Discrete\n",
    "    \"Weight\": [55.5, 72.3, 68.0, 59.2]                                    # Continuous\n",
    "}\n",
    "\n",
    "df = pd.DataFrame(data)\n",
    "df\n"
   ]
  },
  {
   "cell_type": "code",
   "execution_count": 7,
   "id": "d62a2c8a-faa3-4ee0-b451-3ceec12fd9ac",
   "metadata": {},
   "outputs": [
    {
     "data": {
      "text/plain": [
       "{'name': 'Rushikesh', 'age': 27, 'occupation': 'ML Engineer'}"
      ]
     },
     "execution_count": 7,
     "metadata": {},
     "output_type": "execute_result"
    }
   ],
   "source": [
    "# data numerical\n",
    "numdata = [ 1, 7, 17, 1717 ]\n",
    "\n",
    "# character / string\n",
    "chardata = 'xyz'\n",
    "\n",
    "# double-quotes also fine\n",
    "strdata = \"x\"\n",
    "\n",
    "# boolean (aka logical)\n",
    "logitdata = True\n",
    "\n",
    "listdata = [ [3, 4, 34] , 'hello' , 4 ]\n",
    "\n",
    "# dict\n",
    "dictdata = dict()\n",
    "dictdata['name'] = 'Rushikesh'\n",
    "dictdata['age'] = 27\n",
    "dictdata['occupation'] = 'ML Engineer'\n",
    "\n",
    "dictdata\n"
   ]
  },
  {
   "cell_type": "code",
   "execution_count": null,
   "id": "b34f651a-2173-4d85-a9f0-9f147c3ed8aa",
   "metadata": {},
   "outputs": [],
   "source": []
  }
 ],
 "metadata": {
  "kernelspec": {
   "display_name": "Python 3 (ipykernel)",
   "language": "python",
   "name": "python3"
  },
  "language_info": {
   "codemirror_mode": {
    "name": "ipython",
    "version": 3
   },
   "file_extension": ".py",
   "mimetype": "text/x-python",
   "name": "python",
   "nbconvert_exporter": "python",
   "pygments_lexer": "ipython3",
   "version": "3.12.7"
  }
 },
 "nbformat": 4,
 "nbformat_minor": 5
}
