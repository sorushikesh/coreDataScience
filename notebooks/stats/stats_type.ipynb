{
 "cells": [
  {
   "cell_type": "markdown",
   "id": "17cc9ac1656ceb9",
   "metadata": {},
   "source": [
    "# Descriptive vs Predictive vs Prescriptive Analytics\n",
    "\n",
    "Analytics can be broadly categorized into three types: **Descriptive**, **Predictive**, and **Prescriptive**.\n",
    "\n",
    "- **Descriptive analytics** summarizes past data.\n",
    "- **Predictive analytics** forecasts future outcomes.\n",
    "- **Prescriptive analytics** recommends actions to achieve specific goals.\n",
    "\n",
    "---\n",
    "\n",
    "## Descriptive Analytics\n",
    "\n",
    "- **Focus**: Summarizes past data to reveal patterns and trends.\n",
    "- **Purpose**: Helps understand what has happened in the past or is currently happening.\n",
    "- **Examples**:\n",
    "  - Calculating averages, percentages, and frequency counts\n",
    "  - Creating charts and tables\n",
    "- **Tools**:\n",
    "  - Data aggregation\n",
    "  - Data mining\n",
    "  - Statistical analysis\n",
    "\n",
    "---\n",
    "\n",
    "## Predictive Analytics\n",
    "\n",
    "- **Focus**: Uses past data to forecast future outcomes.\n",
    "- **Purpose**: Helps understand what might happen in the future.\n",
    "- **Examples**:\n",
    "  - Predicting sales\n",
    "  - Identifying customer churn\n",
    "  - Detecting fraud\n",
    "- **Tools**:\n",
    "  - Statistical modeling\n",
    "  - Machine learning\n",
    "  - Forecasting techniques\n",
    "\n",
    "---\n",
    "\n",
    "## Prescriptive Analytics\n",
    "\n",
    "- **Focus**: Recommends actions to achieve specific goals or overcome challenges.\n",
    "- **Purpose**: Helps decide what should be done to achieve desired outcomes.\n",
    "- **Examples**:\n",
    "  - Optimizing inventory management\n",
    "  - Recommending personalized marketing campaigns\n",
    "  - Suggesting treatment plans\n",
    "- **Tools**:\n",
    "  - Optimization algorithms\n",
    "  - Simulation models\n",
    "  - Decision support systems\n",
    "---"
   ]
  },
  {
   "cell_type": "markdown",
   "id": "822165de-a002-4cbc-8db9-a9740551b608",
   "metadata": {},
   "source": [
    "## Descriptive statistics\n",
    "\n",
    "- Descriptive statistics summarize and analyze the features of a dataset.\n",
    "- Deals with actual, observed data.\n",
    "- Descriptive statistics summarize and describe the features of a dataset. They give insight into the data without making predictions or generalizations.\n",
    "\n",
    "| Measure                    | Description                                             |\n",
    "| -------------------------- | ------------------------------------------------------- |\n",
    "| **Mean**                   | The average value.                                      |\n",
    "| **Median**                 | The middle value when data is ordered.                  |\n",
    "| **Mode**                   | The most frequent value.                                |\n",
    "| **Range**                  | Difference between the maximum and minimum.             |\n",
    "| **Standard Deviation (σ)** | Measures how spread out the values are around the mean. |\n",
    "| **Variance (σ²)**          | The square of standard deviation; measures dispersion.  |\n",
    "| **Skewness**               | Describes the asymmetry of the data distribution.       |\n",
    "| **Kurtosis**               | Measures the \"tailedness\" of the distribution.          |"
   ]
  },
  {
   "cell_type": "code",
   "execution_count": 4,
   "id": "8d4dcb92-eb69-452a-8ef6-c83dc9039ca1",
   "metadata": {},
   "outputs": [
    {
     "name": "stdout",
     "output_type": "stream",
     "text": [
      "Mean: 18.454545454545453\n",
      "Median: 18.0\n",
      "Mode: 14\n",
      "Standard Deviation: 5.8366185160998265\n",
      "Variance: 34.066115702479344\n"
     ]
    }
   ],
   "source": [
    "import numpy as np\n",
    "import pandas as pd\n",
    "\n",
    "data = [10, 12, 14, 14, 15, 18, 20, 22, 24, 24, 30]\n",
    "\n",
    "print(\"Mean:\", np.mean(data))\n",
    "print(\"Median:\", np.median(data))\n",
    "print(\"Mode:\", pd.Series(data).mode()[0])\n",
    "print(\"Standard Deviation:\", np.std(data))\n",
    "print(\"Variance:\", np.var(data))\n"
   ]
  },
  {
   "cell_type": "markdown",
   "id": "30e36053-9761-417c-92d9-83b4ac9de347",
   "metadata": {},
   "source": [
    "## Inferential statistics\n",
    "\n",
    "- Inferential statistics is used to make predictions or inferences about a population based on a sample of data.\n",
    "- It involves using sample data to draw conclusions about a larger population, often with some level of uncertainty.\n",
    "\n",
    "| Concept                  | Description                                                                |\n",
    "| ------------------------ | -------------------------------------------------------------------------- |\n",
    "| **Population vs Sample** | Population: entire group; Sample: subset used for analysis                 |\n",
    "| **Hypothesis Testing**   | Testing assumptions using statistical evidence                             |\n",
    "| **Confidence Interval**  | A range within which the true population parameter is expected to lie      |\n",
    "| **p-value**              | Probability of obtaining results at least as extreme as the observed ones  |\n",
    "| **T-tests / Z-tests**    | Compare means of groups (used based on sample size and variance knowledge) |\n",
    "| **Chi-Square Test**      | Test for categorical data independence                                     |\n",
    "| **Regression Analysis**  | Modeling relationship between variables                                    |"
   ]
  },
  {
   "cell_type": "code",
   "execution_count": 5,
   "id": "045d3d6a-0e1c-4e5e-a0a5-c661a388be63",
   "metadata": {},
   "outputs": [
    {
     "name": "stdout",
     "output_type": "stream",
     "text": [
      "T-Statistic: 1.0\n",
      "P-Value: 0.35591768374958205\n"
     ]
    }
   ],
   "source": [
    "from scipy import stats\n",
    "\n",
    "sample_data = [12, 14, 15, 16, 17, 18, 20]\n",
    "population_mean = 15\n",
    "\n",
    "t_statistic, p_value = stats.ttest_1samp(sample_data, population_mean)\n",
    "\n",
    "print(\"T-Statistic:\", t_statistic)\n",
    "print(\"P-Value:\", p_value)\n"
   ]
  },
  {
   "cell_type": "markdown",
   "id": "72a72bf2-4de4-484c-8e18-6f619717ce2d",
   "metadata": {},
   "source": [
    "| Feature       | Descriptive Statistics           | Inferential Statistics              |\n",
    "| ------------- | -------------------------------- | ----------------------------------- |\n",
    "| Purpose       | Describe data                    | Make predictions / test hypotheses  |\n",
    "| Based On      | Entire dataset                   | Sample of the data                  |\n",
    "| Output        | Graphs, charts, summary values   | Probability, estimates, predictions |\n",
    "| Example Tools | Mean, Median, Standard Deviation | t-test, ANOVA, Regression, p-values |\n"
   ]
  }
 ],
 "metadata": {
  "kernelspec": {
   "display_name": "Python 3 (ipykernel)",
   "language": "python",
   "name": "python3"
  },
  "language_info": {
   "codemirror_mode": {
    "name": "ipython",
    "version": 3
   },
   "file_extension": ".py",
   "mimetype": "text/x-python",
   "name": "python",
   "nbconvert_exporter": "python",
   "pygments_lexer": "ipython3",
   "version": "3.12.7"
  }
 },
 "nbformat": 4,
 "nbformat_minor": 5
}
