{
 "cells": [
  {
   "metadata": {},
   "cell_type": "markdown",
   "source": [
    "# Descriptive vs Predictive vs Prescriptive Analytics\n",
    "\n",
    "Analytics can be broadly categorized into three types: **Descriptive**, **Predictive**, and **Prescriptive**.\n",
    "\n",
    "- **Descriptive analytics** summarizes past data.\n",
    "- **Predictive analytics** forecasts future outcomes.\n",
    "- **Prescriptive analytics** recommends actions to achieve specific goals.\n",
    "\n",
    "---\n",
    "\n",
    "## Descriptive Analytics\n",
    "\n",
    "- **Focus**: Summarizes past data to reveal patterns and trends.\n",
    "- **Purpose**: Helps understand what has happened in the past or is currently happening.\n",
    "- **Examples**:\n",
    "  - Calculating averages, percentages, and frequency counts\n",
    "  - Creating charts and tables\n",
    "- **Tools**:\n",
    "  - Data aggregation\n",
    "  - Data mining\n",
    "  - Statistical analysis\n",
    "\n",
    "---\n",
    "\n",
    "## Predictive Analytics\n",
    "\n",
    "- **Focus**: Uses past data to forecast future outcomes.\n",
    "- **Purpose**: Helps understand what might happen in the future.\n",
    "- **Examples**:\n",
    "  - Predicting sales\n",
    "  - Identifying customer churn\n",
    "  - Detecting fraud\n",
    "- **Tools**:\n",
    "  - Statistical modeling\n",
    "  - Machine learning\n",
    "  - Forecasting techniques\n",
    "\n",
    "---\n",
    "\n",
    "## Prescriptive Analytics\n",
    "\n",
    "- **Focus**: Recommends actions to achieve specific goals or overcome challenges.\n",
    "- **Purpose**: Helps decide what should be done to achieve desired outcomes.\n",
    "- **Examples**:\n",
    "  - Optimizing inventory management\n",
    "  - Recommending personalized marketing campaigns\n",
    "  - Suggesting treatment plans\n",
    "- **Tools**:\n",
    "  - Optimization algorithms\n",
    "  - Simulation models\n",
    "  - Decision support systems\n"
   ],
   "id": "17cc9ac1656ceb9"
  }
 ],
 "metadata": {
  "kernelspec": {
   "display_name": "Python 3",
   "language": "python",
   "name": "python3"
  },
  "language_info": {
   "codemirror_mode": {
    "name": "ipython",
    "version": 2
   },
   "file_extension": ".py",
   "mimetype": "text/x-python",
   "name": "python",
   "nbconvert_exporter": "python",
   "pygments_lexer": "ipython2",
   "version": "2.7.6"
  }
 },
 "nbformat": 4,
 "nbformat_minor": 5
}
