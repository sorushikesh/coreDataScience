{
 "cells": [
  {
   "cell_type": "markdown",
   "id": "69606db9",
   "metadata": {},
   "source": [
    "NumPy:\n",
    "\t\n",
    "\tNumPy is a Python library used for working with arrays.\n",
    "\tN-Dimensional Arrays: NumPy’s core feature is ndarray, a powerful N-dimensional array object that supports homogeneous data types.\t\n",
    "\tArrays with High Performance: Arrays are stored in contiguous memory locations, enabling faster computations than Python lists"
   ]
  },
  {
   "cell_type": "code",
   "execution_count": null,
   "id": "2a830112",
   "metadata": {
    "vscode": {
     "languageId": "plaintext"
    }
   },
   "outputs": [],
   "source": []
  }
 ],
 "metadata": {
  "language_info": {
   "name": "python"
  }
 },
 "nbformat": 4,
 "nbformat_minor": 5
}
