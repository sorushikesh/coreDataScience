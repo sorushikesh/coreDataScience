{
 "cells": [
  {
   "cell_type": "markdown",
   "id": "69606db9",
   "metadata": {},
   "source": [
    "NumPy:\n",
    "\t\n",
    "\tNumPy is a Python library used for working with arrays.\n",
    "\tN-Dimensional Arrays: NumPy’s core feature is ndarray, a powerful N-dimensional array object that supports homogeneous data types.\t\n",
    "\tArrays with High Performance: Arrays are stored in contiguous memory locations, enabling faster computations than Python lists"
   ]
  },
  {
   "cell_type": "code",
   "execution_count": null,
   "id": "6a0e7841",
   "metadata": {},
   "outputs": [],
   "source": [
    "import numpy as np\n",
    "\n",
    "# 1D Array (One-dimensional) - Just a simple list of values\n",
    "arr_one_dimensional = np.array([1,2,2,3,3,3,4,4,4,4,5,5,5,5,5,6,6,6,6,6,6,\n",
    "                                 7,7,7,7,7,7,7,8,8,8,8,8,8,8,8,9,9,9,9,9,9,9,9,9])\n",
    "print(\"1D Array:\\n\", arr_one_dimensional)\n",
    "\n",
    "# 2D Array (Two-dimensional) - Like a table (rows x columns)\n",
    "arr_two_dimensional = np.array([[1, 2], [3, 4], [5, 6], [7, 8]])\n",
    "print(\"\\n2D Array:\\n\", arr_two_dimensional)\n",
    "\n",
    "# 3D Array (Three-dimensional) - Like a stack of 2D arrays\n",
    "arr_three_dimensional = np.array([[[1, 2], [3, 4]], [[5, 6], [7, 8]]])\n",
    "print(\"\\n3D Array:\\n\", arr_three_dimensional)"
   ]
  }
 ],
 "metadata": {
  "kernelspec": {
   "display_name": "venv",
   "language": "python",
   "name": "python3"
  },
  "language_info": {
   "codemirror_mode": {
    "name": "ipython",
    "version": 3
   },
   "file_extension": ".py",
   "mimetype": "text/x-python",
   "name": "python",
   "nbconvert_exporter": "python",
   "pygments_lexer": "ipython3",
   "version": "3.13.3"
  }
 },
 "nbformat": 4,
 "nbformat_minor": 5
}
