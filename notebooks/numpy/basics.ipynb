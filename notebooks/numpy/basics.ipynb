{
 "cells": [
  {
   "cell_type": "markdown",
   "id": "69606db9",
   "metadata": {},
   "source": [
    "NumPy:\n",
    "\t\n",
    "\tNumPy is a Python library used for working with arrays.\n",
    "\tN-Dimensional Arrays: NumPy’s core feature is ndarray, a powerful N-dimensional array object that supports homogeneous data types.\t\n",
    "\tArrays with High Performance: Arrays are stored in contiguous memory locations, enabling faster computations than Python lists"
   ]
  },
  {
   "cell_type": "code",
   "execution_count": 9,
   "id": "6a0e7841",
   "metadata": {},
   "outputs": [
    {
     "name": "stdout",
     "output_type": "stream",
     "text": [
      "1D Array:\n",
      " [1 2 2 3 3 3 4 4 4 4 5 5 5 5 5 6 6 6 6 6 6 7 7 7 7 7 7 7 8 8 8 8 8 8 8 8 9\n",
      " 9 9 9 9 9 9 9 9]\n",
      "\n",
      "2D Array:\n",
      " [[1 2]\n",
      " [3 4]\n",
      " [5 6]\n",
      " [7 8]]\n",
      "\n",
      "3D Array:\n",
      " [[[1 2]\n",
      "  [3 4]]\n",
      "\n",
      " [[5 6]\n",
      "  [7 8]]]\n"
     ]
    }
   ],
   "source": [
    "import numpy as np\n",
    "\n",
    "# 1D Array (One-dimensional) - Just a simple list of values\n",
    "arr_one_dimensional = np.array([1,2,2,3,3,3,4,4,4,4,5,5,5,5,5,6,6,6,6,6,6,\n",
    "                                 7,7,7,7,7,7,7,8,8,8,8,8,8,8,8,9,9,9,9,9,9,9,9,9])\n",
    "print(\"1D Array:\\n\", arr_one_dimensional)\n",
    "\n",
    "# 2D Array (Two-dimensional) - Like a table (rows x columns)\n",
    "arr_two_dimensional = np.array([[1, 2], [3, 4], [5, 6], [7, 8]])\n",
    "print(\"\\n2D Array:\\n\", arr_two_dimensional)\n",
    "\n",
    "# 3D Array (Three-dimensional) - Like a stack of 2D arrays\n",
    "arr_three_dimensional = np.array([[[1, 2], [3, 4]], [[5, 6], [7, 8]]])\n",
    "print(\"\\n3D Array:\\n\", arr_three_dimensional)"
   ]
  },
  {
   "cell_type": "code",
   "execution_count": 10,
   "id": "aaf607b1",
   "metadata": {},
   "outputs": [
    {
     "name": "stdout",
     "output_type": "stream",
     "text": [
      "Single element access: 2\n",
      "Negative indexing: 9\n",
      "Multidimensional array access: 3\n"
     ]
    }
   ],
   "source": [
    "# Create a 1D array\n",
    "arr1d = np.array([10, 20, 30, 40, 50])\n",
    "\n",
    "# Single element access\n",
    "print(\"Single element access:\", arr_one_dimensional[2])  \n",
    "\n",
    "# Negative indexing\n",
    "print(\"Negative indexing:\", arr_one_dimensional[-1])  \n",
    "\n",
    "# Multidimensional array access\n",
    "print(\"Multidimensional array access:\", arr_two_dimensional[1, 0]) "
   ]
  },
  {
   "cell_type": "code",
   "execution_count": 11,
   "id": "f4940f26",
   "metadata": {},
   "outputs": [
    {
     "name": "stdout",
     "output_type": "stream",
     "text": [
      "Elements from index 4 to 10: [3 3 4 4 4 4 5]\n",
      "Multidimensional Slicing: [2 4 6 8]\n",
      "Reverse array elements: [9 9 9 9 9 9 9 9 9 8 8 8 8 8 8 8 8 7 7 7 7 7 7 7 6 6 6 6 6 6 5 5 5 5 5 4 4\n",
      " 4 4 3 3 3 2 2 1]\n"
     ]
    }
   ],
   "source": [
    "# elements from index 4 to 10\n",
    "print(\"Elements from index 4 to 10:\", arr_one_dimensional[4:11])\n",
    "\n",
    "#all rows, second column\n",
    "print(\"Multidimensional Slicing:\", arr_two_dimensional[:, 1])\n",
    "\n",
    "# Reverse array elements\n",
    "print(\"Reverse array elements:\", arr_one_dimensional[::-1])"
   ]
  },
  {
   "cell_type": "code",
   "execution_count": 12,
   "id": "d59ba803",
   "metadata": {},
   "outputs": [
    {
     "name": "stdout",
     "output_type": "stream",
     "text": [
      "Element at index 0 is 1\n",
      "Element at index 1 is 2\n",
      "Element at index 2 is 2\n",
      "Element at index 3 is 3\n",
      "Element at index 4 is 3\n",
      "Element at index 5 is 3\n",
      "Element at index 6 is 4\n",
      "Element at index 7 is 4\n",
      "Element at index 8 is 4\n",
      "Element at index 9 is 4\n",
      "Element at index 10 is 5\n"
     ]
    }
   ],
   "source": [
    "# Conditional index\n",
    "for i in range(0, 11):\n",
    "    print(\"Element at index {} is {}\".format(i, arr_one_dimensional[i]))"
   ]
  },
  {
   "cell_type": "markdown",
   "id": "a3c93156",
   "metadata": {},
   "source": [
    "NumPy Basic Operations\n",
    "\n",
    "    Element-wise Operations: Addition, subtraction, multiplication, and division directly on NumPy arrays."
   ]
  },
  {
   "cell_type": "code",
   "execution_count": 13,
   "id": "75f36d08",
   "metadata": {},
   "outputs": [
    {
     "name": "stdout",
     "output_type": "stream",
     "text": [
      "Addition: [5 7 9]\n",
      "Subtraction: [-3 -3 -3]\n",
      "Multiplication: [ 4 10 18]\n",
      "Division: [0.25 0.4  0.5 ]\n",
      "Dot Product: 32\n",
      "Mean of x: 2.0\n",
      "Std dev of y: 0.816496580927726\n",
      "Sum of x: 6\n",
      "L2 Norm of x: 3.7416573867739413\n",
      "Reshaped x:\n",
      " [[1]\n",
      " [2]\n",
      " [3]]\n",
      "Horizontal Stack:\n",
      " [1 2 3 4 5 6]\n",
      "Vertical Stack:\n",
      " [[1 2 3]\n",
      " [4 5 6]]\n",
      "x > 1: [False  True  True]\n",
      "Elements in x > 1: [2 3]\n"
     ]
    }
   ],
   "source": [
    "x = np.array([1, 2, 3])\n",
    "y = np.array([4, 5, 6])\n",
    "\n",
    "# 1. Element-wise operations (each element of x with corresponding y)\n",
    "print(\"Addition:\", x + y)             \n",
    "print(\"Subtraction:\", x - y)        \n",
    "print(\"Multiplication:\", x * y)      \n",
    "print(\"Division:\", x / y)            \n",
    "\n",
    "# 2. Dot Product (used in linear models, weighted sum)\n",
    "dot_product = np.dot(x, y)            # 1*4 + 2*5 + 3*6 = 32\n",
    "print(\"Dot Product:\", dot_product)\n",
    "\n",
    "# 3. Statistics (common in data analysis and normalization)\n",
    "print(\"Mean of x:\", np.mean(x))       # Average of [1,2,3]\n",
    "print(\"Std dev of y:\", np.std(y))     # Measure of spread\n",
    "print(\"Sum of x:\", np.sum(x))         # Total of array x\n",
    "\n",
    "# 4. Vector norm (L2 norm, used in optimization & distance calculation)\n",
    "norm = np.linalg.norm(x)\n",
    "print(\"L2 Norm of x:\", norm)\n",
    "\n",
    "# 5. Reshape array (important for feeding data into ML models)\n",
    "x_reshaped = x.reshape(3, 1)          # Convert from (3,) to (3,1)\n",
    "print(\"Reshaped x:\\n\", x_reshaped)\n",
    "\n",
    "# 6. Stack arrays (combine feature vectors or batches)\n",
    "print(\"Horizontal Stack:\\n\", np.hstack((x, y)))  # Side by side\n",
    "print(\"Vertical Stack:\\n\", np.vstack((x, y)))    # One below other\n",
    "\n",
    "# 7. Logical operations (filtering based on condition)\n",
    "print(\"x > 1:\", x > 1)                      # Boolean array\n",
    "print(\"Elements in x > 1:\", x[x > 1])       # [2, 3]\n"
   ]
  }
 ],
 "metadata": {
  "kernelspec": {
   "display_name": ".venv",
   "language": "python",
   "name": "python3"
  },
  "language_info": {
   "codemirror_mode": {
    "name": "ipython",
    "version": 3
   },
   "file_extension": ".py",
   "mimetype": "text/x-python",
   "name": "python",
   "nbconvert_exporter": "python",
   "pygments_lexer": "ipython3",
   "version": "3.13.0"
  }
 },
 "nbformat": 4,
 "nbformat_minor": 5
}
