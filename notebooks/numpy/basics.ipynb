{
 "cells": [
  {
   "cell_type": "markdown",
   "id": "69606db9",
   "metadata": {},
   "source": [
    "NumPy:\n",
    "\t\n",
    "\tNumPy is a Python library used for working with arrays.\n",
    "\tN-Dimensional Arrays: NumPy’s core feature is ndarray, a powerful N-dimensional array object that supports homogeneous data types.\t\n",
    "\tArrays with High Performance: Arrays are stored in contiguous memory locations, enabling faster computations than Python lists"
   ]
  },
  {
   "cell_type": "code",
   "execution_count": null,
   "id": "6a0e7841",
   "metadata": {},
   "outputs": [],
   "source": [
    "import numpy as np\n",
    "\n",
    "# 1D Array (One-dimensional) - Just a simple list of values\n",
    "arr_one_dimensional = np.array([1,2,2,3,3,3,4,4,4,4,5,5,5,5,5,6,6,6,6,6,6,\n",
    "                                 7,7,7,7,7,7,7,8,8,8,8,8,8,8,8,9,9,9,9,9,9,9,9,9])\n",
    "print(\"1D Array:\\n\", arr_one_dimensional)\n",
    "\n",
    "# 2D Array (Two-dimensional) - Like a table (rows x columns)\n",
    "arr_two_dimensional = np.array([[1, 2], [3, 4], [5, 6], [7, 8]])\n",
    "print(\"\\n2D Array:\\n\", arr_two_dimensional)\n",
    "\n",
    "# 3D Array (Three-dimensional) - Like a stack of 2D arrays\n",
    "arr_three_dimensional = np.array([[[1, 2], [3, 4]], [[5, 6], [7, 8]]])\n",
    "print(\"\\n3D Array:\\n\", arr_three_dimensional)"
   ]
  },
  {
   "cell_type": "code",
   "execution_count": null,
   "id": "aaf607b1",
   "metadata": {},
   "outputs": [],
   "source": [
    "# Create a 1D array\n",
    "arr1d = np.array([10, 20, 30, 40, 50])\n",
    "\n",
    "# Single element access\n",
    "print(\"Single element access:\", arr_one_dimensional[2])  \n",
    "\n",
    "# Negative indexing\n",
    "print(\"Negative indexing:\", arr_one_dimensional[-1])  \n",
    "\n",
    "# Multidimensional array access\n",
    "print(\"Multidimensional array access:\", arr_two_dimensional[1, 0]) "
   ]
  },
  {
   "cell_type": "code",
   "execution_count": 25,
   "id": "f4940f26",
   "metadata": {},
   "outputs": [
    {
     "name": "stdout",
     "output_type": "stream",
     "text": [
      "Elements from index 4 to 10: [3 3 4 4 4 4 5]\n",
      "Multidimensional Slicing: [2 4 6 8]\n",
      "Reverse array elements: [9 9 9 9 9 9 9 9 9 8 8 8 8 8 8 8 8 7 7 7 7 7 7 7 6 6 6 6 6 6 5 5 5 5 5 4 4\n",
      " 4 4 3 3 3 2 2 1]\n"
     ]
    }
   ],
   "source": [
    "# Slicing in array\n",
    "\n",
    "# elements from index 4 to 10\n",
    "print(\"Elements from index 4 to 10:\", arr_one_dimensional[4:11])\n",
    "\n",
    "#all rows, second column\n",
    "print(\"Multidimensional Slicing:\", arr_two_dimensional[:, 1])\n",
    "\n",
    "# Reverse array elements\n",
    "print(\"Reverse array elements:\", arr_one_dimensional[::-1])"
   ]
  }
 ],
 "metadata": {
  "kernelspec": {
   "display_name": "venv",
   "language": "python",
   "name": "python3"
  },
  "language_info": {
   "codemirror_mode": {
    "name": "ipython",
    "version": 3
   },
   "file_extension": ".py",
   "mimetype": "text/x-python",
   "name": "python",
   "nbconvert_exporter": "python",
   "pygments_lexer": "ipython3",
   "version": "3.13.3"
  }
 },
 "nbformat": 4,
 "nbformat_minor": 5
}
